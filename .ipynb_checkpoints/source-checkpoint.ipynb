{
 "cells": [
  {
   "cell_type": "markdown",
   "metadata": {},
   "source": [
    "# Health Access Disparities\n",
    "\n",
    "![Banner](./assets/banner.jpeg)"
   ]
  },
  {
   "cell_type": "markdown",
   "metadata": {},
   "source": [
    "## Topic\n",
    "The problem I’m addressing is the disparity in access to healthcare services between different regions, specifically comparing rural areas to urban areas. This topic is important because healthcare access is a key determinant of well-being, and inequities in access can lead to significant differences in health outcomes. Bridging these gaps is crucial to ensuring that all individuals, regardless of where they live, have fair opportunities to access healthcare.\n",
    "\n"
   ]
  },
  {
   "cell_type": "markdown",
   "metadata": {},
   "source": [
    "## Project Question\n",
    "*What specific question are you seeking to answer with this project?*\n",
    "*This is not the same as the questions you ask to limit the scope of the project.*\n",
    "What factors contribute to disparities in healthcare access between rural and urban areas?\n",
    "\n",
    "How does travel distance to healthcare facilities impact healthcare utilization in rural areas?\n",
    "\n",
    "What role does socioeconomic status play in healthcare access disparities?\n",
    "\n"
   ]
  },
  {
   "cell_type": "markdown",
   "metadata": {},
   "source": [
    "## What would an answer look like?\n",
    "*What is your hypothesized answer to your question?*\n",
    "A bar chart comparing factors like the number of healthcare facilities, transportation availability, and healthcare professional availability between rural and urban areas.\n",
    "\n",
    "A line graph showing how utilization rates decrease as travel distances increase, emphasizing how access limitations affect health-seeking behavior.\n",
    "\n",
    "A scatter plot to represent the correlation between income levels and proximity to healthcare facilities, illustrating how lower-income areas may have fewer healthcare options."
   ]
  },
  {
   "cell_type": "markdown",
   "metadata": {},
   "source": [
    "## Data Sources\n",
    "*What 3 data sources have you identified for this project?*\n",
    "*How are you going to relate these datasets?*\n",
    "\n",
    "Healthcare Facilities Data (Type: CSV File)\n",
    "Includes information on the location of healthcare facilities, their type (e.g., hospitals, clinics), and the services provided.\n",
    "This dataset will help identify where healthcare facilities are located and their distribution between urban and rural areas.\n",
    "\n",
    "Demographics Data (Type: API)\n",
    "US Census Bureau API\n",
    "Provides data on population density, income levels, education, and other demographic factors by geographic area.\n",
    "This dataset will be used to assess socioeconomic conditions in different regions and their correlation with healthcare access.\n",
    "\n",
    "Healthcare Utilization Data (Type: Database)\n",
    "National Health Interview Survey (NHIS) data accessed through a database (e.g., CDC databases).\n",
    "Contains data on healthcare visits, frequency of healthcare use, and self-reported barriers to accessing healthcare.\n",
    "This dataset will help understand healthcare utilization patterns and assess barriers faced by different regions.\n",
    "\n"
   ]
  },
  {
   "cell_type": "markdown",
   "metadata": {},
   "source": [
    "## Approach and Analysis\n",
    "*What is your approach to answering your project question?*\n",
    "*How will you use the identified data to answer your project question?*\n",
    "To answer the questions related to health access disparities between rural and urban areas, I will take a multi-step analytical approach using descriptive statistics, comparative analysis, and geospatial analysis.\n",
    "\n",
    "Descriptive Statistics:\n",
    "\n",
    "I will begin by summarizing the availability of healthcare facilities in both urban and rural regions. This will involve calculating metrics like the number of healthcare facilities per capita, average travel distance to facilities, and the ratio of healthcare providers to residents.\n",
    "Comparative Analysis:\n",
    "\n",
    "I will perform a comparative analysis to determine how access differs between rural and urban areas. Key variables such as population density, socioeconomic factors (like income and education), and healthcare facility density will be compared using visualizations such as bar charts and scatter plots. This will help to illustrate the disparities clearly and quantify the differences in healthcare access.\n",
    "Geospatial Analysis:\n",
    "\n",
    "Using the location data from healthcare facilities, I will conduct a geospatial analysis to visualize the geographical distribution of healthcare services. Choropleth maps will be used to show which areas have a shortage of facilities. This will also help to identify regions where travel distances to healthcare services are the longest.\n",
    "Correlation Analysis:\n",
    "\n",
    "I will also investigate the correlation between socioeconomic indicators and healthcare access by using demographic data from the Census Bureau. For example, I'll analyze if regions with lower average incomes are also the ones that lack sufficient healthcare facilities.\n",
    "Data Integration and Aggregation:\n",
    "\n",
    "The datasets will be integrated using common identifiers like county codes or zip codes. This integration will enable a comprehensive analysis of healthcare facility availability and utilization relative to population demographics.\n",
    "\n",
    "The Healthcare Facilities Data from the Health Resources & Services Administration (HRSA) will be used to understand facility availability in both rural and urban areas. Specifically, this data will allow me to measure the number of facilities available per population unit in each area.\n",
    "\n",
    "The Demographics Data from the US Census Bureau will provide essential socioeconomic and geographic data, such as population density, average income, and educational levels, which will be key to understanding how social and economic factors influence healthcare access.\n",
    "\n",
    "The Healthcare Utilization Data from the National Health Interview Survey (NHIS) will be used to compare the utilization of healthcare services in rural versus urban areas. By merging this data with demographics and facility data, I can assess whether healthcare utilization correlates with facility availability and the distance to healthcare services.\n",
    "\n",
    "Together, these datasets will help build a complete picture of the disparities that exist in healthcare access, focusing on geographic, economic, and social factors that contribute to the issue."
   ]
  },
  {
   "cell_type": "code",
   "execution_count": 1,
   "metadata": {},
   "outputs": [],
   "source": []
  },
  {
   "cell_type": "markdown",
   "metadata": {},
   "source": [
    "## Resources and References\n",
    "*What resources and references have you used for this project?*\n",
    "Health Resources & Services Administration (HRSA):\n",
    "\n",
    "URL: HRSA Data Downloads\n",
    "This resource provides data on healthcare facilities, including their type, location, and services provided. It will be instrumental in determining the availability of healthcare facilities across different regions.\n",
    "US Census Bureau:\n",
    "\n",
    "API Documentation: Census Bureau Data Sets\n",
    "The Census Bureau provides demographic and socioeconomic data that will be used to understand population distribution and socioeconomic conditions in rural and urban areas.\n",
    "National Health Interview Survey (NHIS):\n",
    "\n",
    "URL: NHIS Overview\n",
    "This data provides insights into healthcare utilization rates in various regions, helping to correlate access with the availability of services and socioeconomic factors.\n",
    "Academic Articles:\n",
    "\n",
    "Articles and papers on healthcare access and rural-urban disparities have been referred to for building an understanding of the existing literature and for defining the project's framework."
   ]
  },
  {
   "cell_type": "code",
   "execution_count": 1,
   "metadata": {},
   "outputs": [
    {
     "name": "stdout",
     "output_type": "stream",
     "text": [
      "[NbConvertApp] Converting notebook source.ipynb to python\n",
      "[NbConvertApp] Writing 7261 bytes to source.py\n"
     ]
    }
   ],
   "source": [
    "# ⚠️ Make sure you run this cell at the end of your notebook before every submission!\n",
    "!jupyter nbconvert --to python source.ipynb"
   ]
  },
  {
   "cell_type": "code",
   "execution_count": null,
   "metadata": {},
   "outputs": [],
   "source": []
  }
 ],
 "metadata": {
  "kernelspec": {
   "display_name": "Python 3 (ipykernel)",
   "language": "python",
   "name": "python3"
  },
  "language_info": {
   "codemirror_mode": {
    "name": "ipython",
    "version": 3
   },
   "file_extension": ".py",
   "mimetype": "text/x-python",
   "name": "python",
   "nbconvert_exporter": "python",
   "pygments_lexer": "ipython3",
   "version": "3.11.7"
  },
  "vscode": {
   "interpreter": {
    "hash": "8f59090b806211711d8ea6da25ee5b1ccb272a75a21b9536283520350d8dfda7"
   }
  }
 },
 "nbformat": 4,
 "nbformat_minor": 2
}
